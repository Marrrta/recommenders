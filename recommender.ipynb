{
 "cells": [
  {
   "cell_type": "code",
   "execution_count": 1,
   "metadata": {},
   "outputs": [],
   "source": [
    "import numpy as np\n",
    "import pandas as pd\n",
    "import matplotlib.pyplot as plt\n",
    "import seaborn as sns\n",
    "from sklearn.model_selection import train_test_split, KFold\n",
    "from sklearn.preprocessing import StandardScaler\n",
    "#from sklearn.metrics import accuracy\n",
    "from sklearn.cluster import KMeans"
   ]
  },
  {
   "cell_type": "code",
   "execution_count": 150,
   "metadata": {},
   "outputs": [
    {
     "name": "stdout",
     "output_type": "stream",
     "text": [
      "<class 'pandas.core.frame.DataFrame'>\n",
      "RangeIndex: 271360 entries, 0 to 271359\n",
      "Data columns (total 8 columns):\n",
      " #   Column               Non-Null Count   Dtype \n",
      "---  ------               --------------   ----- \n",
      " 0   ISBN                 271360 non-null  object\n",
      " 1   Book-Title           271360 non-null  object\n",
      " 2   Book-Author          271359 non-null  object\n",
      " 3   Year-Of-Publication  271360 non-null  object\n",
      " 4   Publisher            271358 non-null  object\n",
      " 5   Image-URL-S          271360 non-null  object\n",
      " 6   Image-URL-M          271360 non-null  object\n",
      " 7   Image-URL-L          271357 non-null  object\n",
      "dtypes: object(8)\n",
      "memory usage: 16.6+ MB\n"
     ]
    }
   ],
   "source": [
    "books = pd.read_csv('Books.csv', dtype = 'object')\n",
    "books.info()"
   ]
  },
  {
   "cell_type": "code",
   "execution_count": 285,
   "metadata": {},
   "outputs": [
    {
     "data": {
      "text/html": [
       "<div>\n",
       "<style scoped>\n",
       "    .dataframe tbody tr th:only-of-type {\n",
       "        vertical-align: middle;\n",
       "    }\n",
       "\n",
       "    .dataframe tbody tr th {\n",
       "        vertical-align: top;\n",
       "    }\n",
       "\n",
       "    .dataframe thead th {\n",
       "        text-align: right;\n",
       "    }\n",
       "</style>\n",
       "<table border=\"1\" class=\"dataframe\">\n",
       "  <thead>\n",
       "    <tr style=\"text-align: right;\">\n",
       "      <th></th>\n",
       "      <th>Book-Title</th>\n",
       "      <th>Book-Author</th>\n",
       "      <th>Year-Of-Publication</th>\n",
       "      <th>Publisher</th>\n",
       "      <th>Image-URL-S</th>\n",
       "      <th>Image-URL-M</th>\n",
       "      <th>Image-URL-L</th>\n",
       "    </tr>\n",
       "    <tr>\n",
       "      <th>ISBN</th>\n",
       "      <th></th>\n",
       "      <th></th>\n",
       "      <th></th>\n",
       "      <th></th>\n",
       "      <th></th>\n",
       "      <th></th>\n",
       "      <th></th>\n",
       "    </tr>\n",
       "  </thead>\n",
       "  <tbody>\n",
       "    <tr>\n",
       "      <th>0195153448</th>\n",
       "      <td>Classical Mythology</td>\n",
       "      <td>Mark P. O. Morford</td>\n",
       "      <td>2002</td>\n",
       "      <td>Oxford University Press</td>\n",
       "      <td>http://images.amazon.com/images/P/0195153448.0...</td>\n",
       "      <td>http://images.amazon.com/images/P/0195153448.0...</td>\n",
       "      <td>http://images.amazon.com/images/P/0195153448.0...</td>\n",
       "    </tr>\n",
       "    <tr>\n",
       "      <th>0002005018</th>\n",
       "      <td>Clara Callan</td>\n",
       "      <td>Richard Bruce Wright</td>\n",
       "      <td>2001</td>\n",
       "      <td>HarperFlamingo Canada</td>\n",
       "      <td>http://images.amazon.com/images/P/0002005018.0...</td>\n",
       "      <td>http://images.amazon.com/images/P/0002005018.0...</td>\n",
       "      <td>http://images.amazon.com/images/P/0002005018.0...</td>\n",
       "    </tr>\n",
       "    <tr>\n",
       "      <th>0060973129</th>\n",
       "      <td>Decision in Normandy</td>\n",
       "      <td>Carlo D'Este</td>\n",
       "      <td>1991</td>\n",
       "      <td>HarperPerennial</td>\n",
       "      <td>http://images.amazon.com/images/P/0060973129.0...</td>\n",
       "      <td>http://images.amazon.com/images/P/0060973129.0...</td>\n",
       "      <td>http://images.amazon.com/images/P/0060973129.0...</td>\n",
       "    </tr>\n",
       "    <tr>\n",
       "      <th>0374157065</th>\n",
       "      <td>Flu: The Story of the Great Influenza Pandemic...</td>\n",
       "      <td>Gina Bari Kolata</td>\n",
       "      <td>1999</td>\n",
       "      <td>Farrar Straus Giroux</td>\n",
       "      <td>http://images.amazon.com/images/P/0374157065.0...</td>\n",
       "      <td>http://images.amazon.com/images/P/0374157065.0...</td>\n",
       "      <td>http://images.amazon.com/images/P/0374157065.0...</td>\n",
       "    </tr>\n",
       "    <tr>\n",
       "      <th>0393045218</th>\n",
       "      <td>The Mummies of Urumchi</td>\n",
       "      <td>E. J. W. Barber</td>\n",
       "      <td>1999</td>\n",
       "      <td>W. W. Norton &amp;amp; Company</td>\n",
       "      <td>http://images.amazon.com/images/P/0393045218.0...</td>\n",
       "      <td>http://images.amazon.com/images/P/0393045218.0...</td>\n",
       "      <td>http://images.amazon.com/images/P/0393045218.0...</td>\n",
       "    </tr>\n",
       "  </tbody>\n",
       "</table>\n",
       "</div>"
      ],
      "text/plain": [
       "                                                   Book-Title  \\\n",
       "ISBN                                                            \n",
       "0195153448                                Classical Mythology   \n",
       "0002005018                                       Clara Callan   \n",
       "0060973129                               Decision in Normandy   \n",
       "0374157065  Flu: The Story of the Great Influenza Pandemic...   \n",
       "0393045218                             The Mummies of Urumchi   \n",
       "\n",
       "                     Book-Author Year-Of-Publication  \\\n",
       "ISBN                                                   \n",
       "0195153448    Mark P. O. Morford                2002   \n",
       "0002005018  Richard Bruce Wright                2001   \n",
       "0060973129          Carlo D'Este                1991   \n",
       "0374157065      Gina Bari Kolata                1999   \n",
       "0393045218       E. J. W. Barber                1999   \n",
       "\n",
       "                             Publisher  \\\n",
       "ISBN                                     \n",
       "0195153448     Oxford University Press   \n",
       "0002005018       HarperFlamingo Canada   \n",
       "0060973129             HarperPerennial   \n",
       "0374157065        Farrar Straus Giroux   \n",
       "0393045218  W. W. Norton &amp; Company   \n",
       "\n",
       "                                                  Image-URL-S  \\\n",
       "ISBN                                                            \n",
       "0195153448  http://images.amazon.com/images/P/0195153448.0...   \n",
       "0002005018  http://images.amazon.com/images/P/0002005018.0...   \n",
       "0060973129  http://images.amazon.com/images/P/0060973129.0...   \n",
       "0374157065  http://images.amazon.com/images/P/0374157065.0...   \n",
       "0393045218  http://images.amazon.com/images/P/0393045218.0...   \n",
       "\n",
       "                                                  Image-URL-M  \\\n",
       "ISBN                                                            \n",
       "0195153448  http://images.amazon.com/images/P/0195153448.0...   \n",
       "0002005018  http://images.amazon.com/images/P/0002005018.0...   \n",
       "0060973129  http://images.amazon.com/images/P/0060973129.0...   \n",
       "0374157065  http://images.amazon.com/images/P/0374157065.0...   \n",
       "0393045218  http://images.amazon.com/images/P/0393045218.0...   \n",
       "\n",
       "                                                  Image-URL-L  \n",
       "ISBN                                                           \n",
       "0195153448  http://images.amazon.com/images/P/0195153448.0...  \n",
       "0002005018  http://images.amazon.com/images/P/0002005018.0...  \n",
       "0060973129  http://images.amazon.com/images/P/0060973129.0...  \n",
       "0374157065  http://images.amazon.com/images/P/0374157065.0...  \n",
       "0393045218  http://images.amazon.com/images/P/0393045218.0...  "
      ]
     },
     "execution_count": 285,
     "metadata": {},
     "output_type": "execute_result"
    }
   ],
   "source": [
    "books.set_index('ISBN', inplace = True)\n",
    "books.head()"
   ]
  },
  {
   "cell_type": "code",
   "execution_count": 154,
   "metadata": {},
   "outputs": [
    {
     "name": "stdout",
     "output_type": "stream",
     "text": [
      "<class 'pandas.core.frame.DataFrame'>\n",
      "RangeIndex: 278858 entries, 0 to 278857\n",
      "Data columns (total 3 columns):\n",
      " #   Column    Non-Null Count   Dtype  \n",
      "---  ------    --------------   -----  \n",
      " 0   User-ID   278858 non-null  object \n",
      " 1   Location  278858 non-null  object \n",
      " 2   Age       168096 non-null  float64\n",
      "dtypes: float64(1), object(2)\n",
      "memory usage: 6.4+ MB\n"
     ]
    }
   ],
   "source": [
    "users = pd.read_csv('Users.csv', dtype={'User-ID': 'object', 'Location': 'object', 'Age': 'float64'})\n",
    "users.info()"
   ]
  },
  {
   "cell_type": "code",
   "execution_count": 8,
   "metadata": {},
   "outputs": [
    {
     "data": {
      "text/html": [
       "<div>\n",
       "<style scoped>\n",
       "    .dataframe tbody tr th:only-of-type {\n",
       "        vertical-align: middle;\n",
       "    }\n",
       "\n",
       "    .dataframe tbody tr th {\n",
       "        vertical-align: top;\n",
       "    }\n",
       "\n",
       "    .dataframe thead th {\n",
       "        text-align: right;\n",
       "    }\n",
       "</style>\n",
       "<table border=\"1\" class=\"dataframe\">\n",
       "  <thead>\n",
       "    <tr style=\"text-align: right;\">\n",
       "      <th></th>\n",
       "      <th>Location</th>\n",
       "      <th>Age</th>\n",
       "    </tr>\n",
       "    <tr>\n",
       "      <th>User-ID</th>\n",
       "      <th></th>\n",
       "      <th></th>\n",
       "    </tr>\n",
       "  </thead>\n",
       "  <tbody>\n",
       "    <tr>\n",
       "      <th>1</th>\n",
       "      <td>nyc, new york, usa</td>\n",
       "      <td>NaN</td>\n",
       "    </tr>\n",
       "    <tr>\n",
       "      <th>2</th>\n",
       "      <td>stockton, california, usa</td>\n",
       "      <td>18.0</td>\n",
       "    </tr>\n",
       "    <tr>\n",
       "      <th>3</th>\n",
       "      <td>moscow, yukon territory, russia</td>\n",
       "      <td>NaN</td>\n",
       "    </tr>\n",
       "    <tr>\n",
       "      <th>4</th>\n",
       "      <td>porto, v.n.gaia, portugal</td>\n",
       "      <td>17.0</td>\n",
       "    </tr>\n",
       "    <tr>\n",
       "      <th>5</th>\n",
       "      <td>farnborough, hants, united kingdom</td>\n",
       "      <td>NaN</td>\n",
       "    </tr>\n",
       "  </tbody>\n",
       "</table>\n",
       "</div>"
      ],
      "text/plain": [
       "                                   Location   Age\n",
       "User-ID                                          \n",
       "1                        nyc, new york, usa   NaN\n",
       "2                 stockton, california, usa  18.0\n",
       "3           moscow, yukon territory, russia   NaN\n",
       "4                 porto, v.n.gaia, portugal  17.0\n",
       "5        farnborough, hants, united kingdom   NaN"
      ]
     },
     "execution_count": 8,
     "metadata": {},
     "output_type": "execute_result"
    }
   ],
   "source": [
    "users = pd.read_csv('Users.csv')\n",
    "users.head()"
   ]
  },
  {
   "cell_type": "code",
   "execution_count": 151,
   "metadata": {},
   "outputs": [
    {
     "name": "stdout",
     "output_type": "stream",
     "text": [
      "<class 'pandas.core.frame.DataFrame'>\n",
      "RangeIndex: 1149780 entries, 0 to 1149779\n",
      "Data columns (total 3 columns):\n",
      " #   Column       Non-Null Count    Dtype \n",
      "---  ------       --------------    ----- \n",
      " 0   User-ID      1149780 non-null  object\n",
      " 1   ISBN         1149780 non-null  object\n",
      " 2   Book-Rating  1149780 non-null  int64 \n",
      "dtypes: int64(1), object(2)\n",
      "memory usage: 26.3+ MB\n"
     ]
    }
   ],
   "source": [
    "ratings = pd.read_csv('Ratings.csv', dtype= {'User-ID': 'object', 'ISBN': 'object', 'Book-Rating': 'int64'})\n",
    "ratings.info()"
   ]
  },
  {
   "cell_type": "code",
   "execution_count": 152,
   "metadata": {},
   "outputs": [
    {
     "data": {
      "text/html": [
       "<div>\n",
       "<style scoped>\n",
       "    .dataframe tbody tr th:only-of-type {\n",
       "        vertical-align: middle;\n",
       "    }\n",
       "\n",
       "    .dataframe tbody tr th {\n",
       "        vertical-align: top;\n",
       "    }\n",
       "\n",
       "    .dataframe thead th {\n",
       "        text-align: right;\n",
       "    }\n",
       "</style>\n",
       "<table border=\"1\" class=\"dataframe\">\n",
       "  <thead>\n",
       "    <tr style=\"text-align: right;\">\n",
       "      <th></th>\n",
       "      <th>User-ID</th>\n",
       "      <th>ISBN</th>\n",
       "      <th>Book-Rating</th>\n",
       "    </tr>\n",
       "  </thead>\n",
       "  <tbody>\n",
       "    <tr>\n",
       "      <th>0</th>\n",
       "      <td>276725</td>\n",
       "      <td>034545104X</td>\n",
       "      <td>0</td>\n",
       "    </tr>\n",
       "    <tr>\n",
       "      <th>1</th>\n",
       "      <td>276726</td>\n",
       "      <td>0155061224</td>\n",
       "      <td>5</td>\n",
       "    </tr>\n",
       "    <tr>\n",
       "      <th>2</th>\n",
       "      <td>276727</td>\n",
       "      <td>0446520802</td>\n",
       "      <td>0</td>\n",
       "    </tr>\n",
       "    <tr>\n",
       "      <th>3</th>\n",
       "      <td>276729</td>\n",
       "      <td>052165615X</td>\n",
       "      <td>3</td>\n",
       "    </tr>\n",
       "    <tr>\n",
       "      <th>4</th>\n",
       "      <td>276729</td>\n",
       "      <td>0521795028</td>\n",
       "      <td>6</td>\n",
       "    </tr>\n",
       "  </tbody>\n",
       "</table>\n",
       "</div>"
      ],
      "text/plain": [
       "  User-ID        ISBN  Book-Rating\n",
       "0  276725  034545104X            0\n",
       "1  276726  0155061224            5\n",
       "2  276727  0446520802            0\n",
       "3  276729  052165615X            3\n",
       "4  276729  0521795028            6"
      ]
     },
     "execution_count": 152,
     "metadata": {},
     "output_type": "execute_result"
    }
   ],
   "source": [
    "ratings.head()"
   ]
  },
  {
   "cell_type": "markdown",
   "metadata": {},
   "source": [
    "#### Finding book by ISBN"
   ]
  },
  {
   "cell_type": "code",
   "execution_count": 14,
   "metadata": {},
   "outputs": [],
   "source": [
    "def what_book(isbn):\n",
    "    print(f\"This book is '{books.loc[isbn, 'Book-Title']}' by {books.loc[isbn, 'Book-Author']}, published in {books.loc[isbn, 'Year-Of-Publication']} by {books.loc[isbn, 'Publisher']}.\")\n",
    "    return books.loc[isbn, 'Book-Title'], books.loc[isbn, 'Book-Author'], books.loc[isbn, 'Year-Of-Publication'], books.loc[isbn, 'Publisher']"
   ]
  },
  {
   "cell_type": "code",
   "execution_count": 13,
   "metadata": {},
   "outputs": [
    {
     "name": "stdout",
     "output_type": "stream",
     "text": [
      "This book is 'Flu: The Story of the Great Influenza Pandemic of 1918 and the Search for the Virus That Caused It' by Gina Bari Kolata, published in 1999 by Farrar Straus Giroux\n"
     ]
    },
    {
     "data": {
      "text/plain": [
       "('Flu: The Story of the Great Influenza Pandemic of 1918 and the Search for the Virus That Caused It',\n",
       " 'Gina Bari Kolata',\n",
       " 1999,\n",
       " 'Farrar Straus Giroux')"
      ]
     },
     "execution_count": 13,
     "metadata": {},
     "output_type": "execute_result"
    }
   ],
   "source": [
    "what_book('0374157065')"
   ]
  },
  {
   "cell_type": "markdown",
   "metadata": {},
   "source": [
    "#### Finding n most favorites by user"
   ]
  },
  {
   "cell_type": "code",
   "execution_count": 34,
   "metadata": {},
   "outputs": [
    {
     "data": {
      "text/plain": [
       "User-ID\n",
       "2          1\n",
       "7          1\n",
       "8         18\n",
       "9          3\n",
       "10         2\n",
       "          ..\n",
       "278846     2\n",
       "278849     4\n",
       "278851    23\n",
       "278852     1\n",
       "278854     8\n",
       "Name: ISBN, Length: 105283, dtype: int64"
      ]
     },
     "execution_count": 34,
     "metadata": {},
     "output_type": "execute_result"
    }
   ],
   "source": [
    "ratings.groupby('User-ID')['ISBN'].count()"
   ]
  },
  {
   "cell_type": "code",
   "execution_count": 42,
   "metadata": {},
   "outputs": [],
   "source": [
    "test = ratings[ratings['User-ID']==278851].sort_values('Book-Rating', ascending = False).head(3)\n",
    "test = test.merge(books[['Book-Title', 'Book-Author']], right_index = True, left_on = 'ISBN')"
   ]
  },
  {
   "cell_type": "code",
   "execution_count": 43,
   "metadata": {},
   "outputs": [
    {
     "data": {
      "text/html": [
       "<div>\n",
       "<style scoped>\n",
       "    .dataframe tbody tr th:only-of-type {\n",
       "        vertical-align: middle;\n",
       "    }\n",
       "\n",
       "    .dataframe tbody tr th {\n",
       "        vertical-align: top;\n",
       "    }\n",
       "\n",
       "    .dataframe thead th {\n",
       "        text-align: right;\n",
       "    }\n",
       "</style>\n",
       "<table border=\"1\" class=\"dataframe\">\n",
       "  <thead>\n",
       "    <tr style=\"text-align: right;\">\n",
       "      <th></th>\n",
       "      <th>User-ID</th>\n",
       "      <th>ISBN</th>\n",
       "      <th>Book-Rating</th>\n",
       "      <th>Book-Title</th>\n",
       "      <th>Book-Author</th>\n",
       "    </tr>\n",
       "  </thead>\n",
       "  <tbody>\n",
       "    <tr>\n",
       "      <th>9550</th>\n",
       "      <td>278851</td>\n",
       "      <td>1569661057</td>\n",
       "      <td>10</td>\n",
       "      <td>Dallas Street Map Guide and Directory, 2000 Ed...</td>\n",
       "      <td>Mapsco</td>\n",
       "    </tr>\n",
       "    <tr>\n",
       "      <th>9548</th>\n",
       "      <td>278851</td>\n",
       "      <td>1558531025</td>\n",
       "      <td>8</td>\n",
       "      <td>Life's Little Instruction Book (Life's Little ...</td>\n",
       "      <td>H. Jackson Brown</td>\n",
       "    </tr>\n",
       "    <tr>\n",
       "      <th>9547</th>\n",
       "      <td>278851</td>\n",
       "      <td>0914511211</td>\n",
       "      <td>8</td>\n",
       "      <td>1996-97 Texas Almanac and State Industrial Gui...</td>\n",
       "      <td>Dallas Morning News</td>\n",
       "    </tr>\n",
       "  </tbody>\n",
       "</table>\n",
       "</div>"
      ],
      "text/plain": [
       "      User-ID        ISBN  Book-Rating  \\\n",
       "9550   278851  1569661057           10   \n",
       "9548   278851  1558531025            8   \n",
       "9547   278851  0914511211            8   \n",
       "\n",
       "                                             Book-Title          Book-Author  \n",
       "9550  Dallas Street Map Guide and Directory, 2000 Ed...               Mapsco  \n",
       "9548  Life's Little Instruction Book (Life's Little ...     H. Jackson Brown  \n",
       "9547  1996-97 Texas Almanac and State Industrial Gui...  Dallas Morning News  "
      ]
     },
     "execution_count": 43,
     "metadata": {},
     "output_type": "execute_result"
    }
   ],
   "source": [
    "test"
   ]
  },
  {
   "cell_type": "code",
   "execution_count": 56,
   "metadata": {},
   "outputs": [],
   "source": [
    "def fav_books(user_id, n):\n",
    "    try:\n",
    "        n_most_fav = ratings[ratings['User-ID']==user_id].sort_values('Book-Rating', ascending = False).head(3)\n",
    "        n_most_fav_books = n_most_fav.merge(books[['Book-Title', 'Book-Author']], right_index = True, left_on = 'ISBN')\n",
    "    except:\n",
    "        n_most_fav = None\n",
    "        n_most_fav_books = None\n",
    "    \n",
    "    return n_most_fav_books"
   ]
  },
  {
   "cell_type": "code",
   "execution_count": 58,
   "metadata": {},
   "outputs": [
    {
     "data": {
      "text/html": [
       "<div>\n",
       "<style scoped>\n",
       "    .dataframe tbody tr th:only-of-type {\n",
       "        vertical-align: middle;\n",
       "    }\n",
       "\n",
       "    .dataframe tbody tr th {\n",
       "        vertical-align: top;\n",
       "    }\n",
       "\n",
       "    .dataframe thead th {\n",
       "        text-align: right;\n",
       "    }\n",
       "</style>\n",
       "<table border=\"1\" class=\"dataframe\">\n",
       "  <thead>\n",
       "    <tr style=\"text-align: right;\">\n",
       "      <th></th>\n",
       "      <th>User-ID</th>\n",
       "      <th>ISBN</th>\n",
       "      <th>Book-Rating</th>\n",
       "      <th>Book-Title</th>\n",
       "      <th>Book-Author</th>\n",
       "    </tr>\n",
       "  </thead>\n",
       "  <tbody>\n",
       "    <tr>\n",
       "      <th>844935</th>\n",
       "      <td>204622</td>\n",
       "      <td>0671027360</td>\n",
       "      <td>10</td>\n",
       "      <td>Angels &amp;amp; Demons</td>\n",
       "      <td>Dan Brown</td>\n",
       "    </tr>\n",
       "    <tr>\n",
       "      <th>844926</th>\n",
       "      <td>204622</td>\n",
       "      <td>0385504209</td>\n",
       "      <td>10</td>\n",
       "      <td>The Da Vinci Code</td>\n",
       "      <td>Dan Brown</td>\n",
       "    </tr>\n",
       "    <tr>\n",
       "      <th>844955</th>\n",
       "      <td>204622</td>\n",
       "      <td>0967560500</td>\n",
       "      <td>10</td>\n",
       "      <td>Natural Hormonal Enhancement</td>\n",
       "      <td>Rob Faigin</td>\n",
       "    </tr>\n",
       "  </tbody>\n",
       "</table>\n",
       "</div>"
      ],
      "text/plain": [
       "        User-ID        ISBN  Book-Rating                    Book-Title  \\\n",
       "844935   204622  0671027360           10           Angels &amp; Demons   \n",
       "844926   204622  0385504209           10             The Da Vinci Code   \n",
       "844955   204622  0967560500           10  Natural Hormonal Enhancement   \n",
       "\n",
       "       Book-Author  \n",
       "844935   Dan Brown  \n",
       "844926   Dan Brown  \n",
       "844955  Rob Faigin  "
      ]
     },
     "execution_count": 58,
     "metadata": {},
     "output_type": "execute_result"
    }
   ],
   "source": [
    "fav_books_test = fav_books(204622, 3)\n",
    "fav_books_test"
   ]
  },
  {
   "cell_type": "markdown",
   "metadata": {},
   "source": [
    "#### Converting ratings from a table to a Users x Books matrix"
   ]
  },
  {
   "cell_type": "code",
   "execution_count": 72,
   "metadata": {},
   "outputs": [],
   "source": [
    "cnt_by_isbn = ratings.groupby('ISBN')['Book-Rating'].count().reset_index()\n",
    "isbns = cnt_by_isbn[cnt_by_isbn['Book-Rating']> cnt_by_isbn['Book-Rating'].quantile(0.8)]['ISBN']\n",
    "\n",
    "cnt_by_uid = ratings.groupby('User-ID')['Book-Rating'].count().reset_index()\n",
    "users = cnt_by_uid[cnt_by_uid['Book-Rating']> cnt_by_uid['Book-Rating'].quantile(0.8)]['User-ID']"
   ]
  },
  {
   "cell_type": "code",
   "execution_count": 76,
   "metadata": {},
   "outputs": [
    {
     "data": {
      "text/html": [
       "<div>\n",
       "<style scoped>\n",
       "    .dataframe tbody tr th:only-of-type {\n",
       "        vertical-align: middle;\n",
       "    }\n",
       "\n",
       "    .dataframe tbody tr th {\n",
       "        vertical-align: top;\n",
       "    }\n",
       "\n",
       "    .dataframe thead th {\n",
       "        text-align: right;\n",
       "    }\n",
       "</style>\n",
       "<table border=\"1\" class=\"dataframe\">\n",
       "  <thead>\n",
       "    <tr style=\"text-align: right;\">\n",
       "      <th></th>\n",
       "      <th>User-ID</th>\n",
       "      <th>ISBN</th>\n",
       "      <th>Book-Rating</th>\n",
       "    </tr>\n",
       "  </thead>\n",
       "  <tbody>\n",
       "    <tr>\n",
       "      <th>0</th>\n",
       "      <td>276725</td>\n",
       "      <td>034545104X</td>\n",
       "      <td>0</td>\n",
       "    </tr>\n",
       "    <tr>\n",
       "      <th>2</th>\n",
       "      <td>276727</td>\n",
       "      <td>0446520802</td>\n",
       "      <td>0</td>\n",
       "    </tr>\n",
       "    <tr>\n",
       "      <th>6</th>\n",
       "      <td>276736</td>\n",
       "      <td>3257224281</td>\n",
       "      <td>8</td>\n",
       "    </tr>\n",
       "    <tr>\n",
       "      <th>8</th>\n",
       "      <td>276744</td>\n",
       "      <td>038550120X</td>\n",
       "      <td>7</td>\n",
       "    </tr>\n",
       "    <tr>\n",
       "      <th>10</th>\n",
       "      <td>276746</td>\n",
       "      <td>0425115801</td>\n",
       "      <td>0</td>\n",
       "    </tr>\n",
       "    <tr>\n",
       "      <th>...</th>\n",
       "      <td>...</td>\n",
       "      <td>...</td>\n",
       "      <td>...</td>\n",
       "    </tr>\n",
       "    <tr>\n",
       "      <th>1149771</th>\n",
       "      <td>276704</td>\n",
       "      <td>0743211383</td>\n",
       "      <td>7</td>\n",
       "    </tr>\n",
       "    <tr>\n",
       "      <th>1149772</th>\n",
       "      <td>276704</td>\n",
       "      <td>080410526X</td>\n",
       "      <td>0</td>\n",
       "    </tr>\n",
       "    <tr>\n",
       "      <th>1149776</th>\n",
       "      <td>276706</td>\n",
       "      <td>0679447156</td>\n",
       "      <td>0</td>\n",
       "    </tr>\n",
       "    <tr>\n",
       "      <th>1149777</th>\n",
       "      <td>276709</td>\n",
       "      <td>0515107662</td>\n",
       "      <td>10</td>\n",
       "    </tr>\n",
       "    <tr>\n",
       "      <th>1149778</th>\n",
       "      <td>276721</td>\n",
       "      <td>0590442449</td>\n",
       "      <td>10</td>\n",
       "    </tr>\n",
       "  </tbody>\n",
       "</table>\n",
       "<p>755479 rows × 3 columns</p>\n",
       "</div>"
      ],
      "text/plain": [
       "         User-ID        ISBN  Book-Rating\n",
       "0         276725  034545104X            0\n",
       "2         276727  0446520802            0\n",
       "6         276736  3257224281            8\n",
       "8         276744  038550120X            7\n",
       "10        276746  0425115801            0\n",
       "...          ...         ...          ...\n",
       "1149771   276704  0743211383            7\n",
       "1149772   276704  080410526X            0\n",
       "1149776   276706  0679447156            0\n",
       "1149777   276709  0515107662           10\n",
       "1149778   276721  0590442449           10\n",
       "\n",
       "[755479 rows x 3 columns]"
      ]
     },
     "execution_count": 76,
     "metadata": {},
     "output_type": "execute_result"
    }
   ],
   "source": [
    "ratings[ratings['ISBN'].isin(isbns)]"
   ]
  },
  {
   "cell_type": "code",
   "execution_count": 82,
   "metadata": {},
   "outputs": [],
   "source": [
    "ratings_pareto = ratings[(ratings['ISBN'].isin(isbns)) & (ratings['User-ID'].isin(users)) & (ratings['Book-Rating']>0)]"
   ]
  },
  {
   "cell_type": "code",
   "execution_count": 84,
   "metadata": {},
   "outputs": [
    {
     "data": {
      "text/plain": [
       "(227333, 3)"
      ]
     },
     "execution_count": 84,
     "metadata": {},
     "output_type": "execute_result"
    }
   ],
   "source": [
    "ratings_pareto.shape"
   ]
  },
  {
   "cell_type": "code",
   "execution_count": 85,
   "metadata": {},
   "outputs": [],
   "source": [
    "ur_matrix = ratings_pareto.pivot_table(index = 'User-ID', columns = 'ISBN', values = 'Book-Rating')"
   ]
  },
  {
   "cell_type": "code",
   "execution_count": 86,
   "metadata": {},
   "outputs": [
    {
     "data": {
      "text/html": [
       "<div>\n",
       "<style scoped>\n",
       "    .dataframe tbody tr th:only-of-type {\n",
       "        vertical-align: middle;\n",
       "    }\n",
       "\n",
       "    .dataframe tbody tr th {\n",
       "        vertical-align: top;\n",
       "    }\n",
       "\n",
       "    .dataframe thead th {\n",
       "        text-align: right;\n",
       "    }\n",
       "</style>\n",
       "<table border=\"1\" class=\"dataframe\">\n",
       "  <thead>\n",
       "    <tr style=\"text-align: right;\">\n",
       "      <th>ISBN</th>\n",
       "      <th>0 907 062 008</th>\n",
       "      <th>00000000</th>\n",
       "      <th>000000000</th>\n",
       "      <th>0000000000</th>\n",
       "      <th>00000000000</th>\n",
       "      <th>000000000000</th>\n",
       "      <th>0000000000000</th>\n",
       "      <th>0001055666</th>\n",
       "      <th>000200092</th>\n",
       "      <th>0002005018</th>\n",
       "      <th>...</th>\n",
       "      <th>9895550065</th>\n",
       "      <th>9895550138</th>\n",
       "      <th>9895550738</th>\n",
       "      <th>B00005W8DZ</th>\n",
       "      <th>B00009EF82</th>\n",
       "      <th>B0000AA9IZ</th>\n",
       "      <th>B0000E63CJ</th>\n",
       "      <th>B158991965</th>\n",
       "      <th>M79702002</th>\n",
       "      <th>O67174142X</th>\n",
       "    </tr>\n",
       "    <tr>\n",
       "      <th>User-ID</th>\n",
       "      <th></th>\n",
       "      <th></th>\n",
       "      <th></th>\n",
       "      <th></th>\n",
       "      <th></th>\n",
       "      <th></th>\n",
       "      <th></th>\n",
       "      <th></th>\n",
       "      <th></th>\n",
       "      <th></th>\n",
       "      <th></th>\n",
       "      <th></th>\n",
       "      <th></th>\n",
       "      <th></th>\n",
       "      <th></th>\n",
       "      <th></th>\n",
       "      <th></th>\n",
       "      <th></th>\n",
       "      <th></th>\n",
       "      <th></th>\n",
       "      <th></th>\n",
       "    </tr>\n",
       "  </thead>\n",
       "  <tbody>\n",
       "    <tr>\n",
       "      <th>8</th>\n",
       "      <td>NaN</td>\n",
       "      <td>NaN</td>\n",
       "      <td>NaN</td>\n",
       "      <td>NaN</td>\n",
       "      <td>NaN</td>\n",
       "      <td>NaN</td>\n",
       "      <td>NaN</td>\n",
       "      <td>NaN</td>\n",
       "      <td>NaN</td>\n",
       "      <td>5.0</td>\n",
       "      <td>...</td>\n",
       "      <td>NaN</td>\n",
       "      <td>NaN</td>\n",
       "      <td>NaN</td>\n",
       "      <td>NaN</td>\n",
       "      <td>NaN</td>\n",
       "      <td>NaN</td>\n",
       "      <td>NaN</td>\n",
       "      <td>NaN</td>\n",
       "      <td>NaN</td>\n",
       "      <td>NaN</td>\n",
       "    </tr>\n",
       "    <tr>\n",
       "      <th>17</th>\n",
       "      <td>NaN</td>\n",
       "      <td>NaN</td>\n",
       "      <td>NaN</td>\n",
       "      <td>NaN</td>\n",
       "      <td>NaN</td>\n",
       "      <td>NaN</td>\n",
       "      <td>NaN</td>\n",
       "      <td>NaN</td>\n",
       "      <td>NaN</td>\n",
       "      <td>NaN</td>\n",
       "      <td>...</td>\n",
       "      <td>NaN</td>\n",
       "      <td>NaN</td>\n",
       "      <td>NaN</td>\n",
       "      <td>NaN</td>\n",
       "      <td>NaN</td>\n",
       "      <td>NaN</td>\n",
       "      <td>NaN</td>\n",
       "      <td>NaN</td>\n",
       "      <td>NaN</td>\n",
       "      <td>NaN</td>\n",
       "    </tr>\n",
       "    <tr>\n",
       "      <th>53</th>\n",
       "      <td>NaN</td>\n",
       "      <td>NaN</td>\n",
       "      <td>NaN</td>\n",
       "      <td>NaN</td>\n",
       "      <td>NaN</td>\n",
       "      <td>NaN</td>\n",
       "      <td>NaN</td>\n",
       "      <td>NaN</td>\n",
       "      <td>NaN</td>\n",
       "      <td>NaN</td>\n",
       "      <td>...</td>\n",
       "      <td>NaN</td>\n",
       "      <td>NaN</td>\n",
       "      <td>NaN</td>\n",
       "      <td>NaN</td>\n",
       "      <td>NaN</td>\n",
       "      <td>NaN</td>\n",
       "      <td>NaN</td>\n",
       "      <td>NaN</td>\n",
       "      <td>NaN</td>\n",
       "      <td>NaN</td>\n",
       "    </tr>\n",
       "    <tr>\n",
       "      <th>69</th>\n",
       "      <td>NaN</td>\n",
       "      <td>NaN</td>\n",
       "      <td>NaN</td>\n",
       "      <td>NaN</td>\n",
       "      <td>NaN</td>\n",
       "      <td>NaN</td>\n",
       "      <td>NaN</td>\n",
       "      <td>NaN</td>\n",
       "      <td>NaN</td>\n",
       "      <td>NaN</td>\n",
       "      <td>...</td>\n",
       "      <td>NaN</td>\n",
       "      <td>NaN</td>\n",
       "      <td>NaN</td>\n",
       "      <td>NaN</td>\n",
       "      <td>NaN</td>\n",
       "      <td>NaN</td>\n",
       "      <td>NaN</td>\n",
       "      <td>NaN</td>\n",
       "      <td>NaN</td>\n",
       "      <td>NaN</td>\n",
       "    </tr>\n",
       "    <tr>\n",
       "      <th>99</th>\n",
       "      <td>NaN</td>\n",
       "      <td>NaN</td>\n",
       "      <td>NaN</td>\n",
       "      <td>NaN</td>\n",
       "      <td>NaN</td>\n",
       "      <td>NaN</td>\n",
       "      <td>NaN</td>\n",
       "      <td>NaN</td>\n",
       "      <td>NaN</td>\n",
       "      <td>NaN</td>\n",
       "      <td>...</td>\n",
       "      <td>NaN</td>\n",
       "      <td>NaN</td>\n",
       "      <td>NaN</td>\n",
       "      <td>NaN</td>\n",
       "      <td>NaN</td>\n",
       "      <td>NaN</td>\n",
       "      <td>NaN</td>\n",
       "      <td>NaN</td>\n",
       "      <td>NaN</td>\n",
       "      <td>NaN</td>\n",
       "    </tr>\n",
       "  </tbody>\n",
       "</table>\n",
       "<p>5 rows × 49619 columns</p>\n",
       "</div>"
      ],
      "text/plain": [
       "ISBN     0 907 062 008  00000000  000000000  0000000000  00000000000  \\\n",
       "User-ID                                                                \n",
       "8                  NaN       NaN        NaN         NaN          NaN   \n",
       "17                 NaN       NaN        NaN         NaN          NaN   \n",
       "53                 NaN       NaN        NaN         NaN          NaN   \n",
       "69                 NaN       NaN        NaN         NaN          NaN   \n",
       "99                 NaN       NaN        NaN         NaN          NaN   \n",
       "\n",
       "ISBN     000000000000  0000000000000  0001055666  000200092  0002005018  ...  \\\n",
       "User-ID                                                                  ...   \n",
       "8                 NaN            NaN         NaN        NaN         5.0  ...   \n",
       "17                NaN            NaN         NaN        NaN         NaN  ...   \n",
       "53                NaN            NaN         NaN        NaN         NaN  ...   \n",
       "69                NaN            NaN         NaN        NaN         NaN  ...   \n",
       "99                NaN            NaN         NaN        NaN         NaN  ...   \n",
       "\n",
       "ISBN     9895550065  9895550138  9895550738  B00005W8DZ  B00009EF82  \\\n",
       "User-ID                                                               \n",
       "8               NaN         NaN         NaN         NaN         NaN   \n",
       "17              NaN         NaN         NaN         NaN         NaN   \n",
       "53              NaN         NaN         NaN         NaN         NaN   \n",
       "69              NaN         NaN         NaN         NaN         NaN   \n",
       "99              NaN         NaN         NaN         NaN         NaN   \n",
       "\n",
       "ISBN     B0000AA9IZ  B0000E63CJ  B158991965  M79702002  O67174142X  \n",
       "User-ID                                                             \n",
       "8               NaN         NaN         NaN        NaN         NaN  \n",
       "17              NaN         NaN         NaN        NaN         NaN  \n",
       "53              NaN         NaN         NaN        NaN         NaN  \n",
       "69              NaN         NaN         NaN        NaN         NaN  \n",
       "99              NaN         NaN         NaN        NaN         NaN  \n",
       "\n",
       "[5 rows x 49619 columns]"
      ]
     },
     "execution_count": 86,
     "metadata": {},
     "output_type": "execute_result"
    }
   ],
   "source": [
    "ur_matrix.head()"
   ]
  },
  {
   "cell_type": "markdown",
   "metadata": {},
   "source": [
    "#### Finding similar users"
   ]
  },
  {
   "cell_type": "code",
   "execution_count": 98,
   "metadata": {},
   "outputs": [],
   "source": [
    "def distance_users(user1, user2):\n",
    "    user1vec = ur_matrix[ur_matrix.index == user1]\n",
    "    user2vec = ur_matrix[ur_matrix.index == user2]\n",
    "    distance_den = ur_matrix.shape[1]\n",
    "    distance_nom = ur_matrix.shape[1]\n",
    "    for _ in range(ur_matrix.shape[1]):\n",
    "        try:\n",
    "            if user1vec[_] == user2vec[_]:\n",
    "                distance_nom -= 1\n",
    "            elif user1vec[_].isna() and user2vec[_].isna():\n",
    "                distance_nom -= 1\n",
    "            else:\n",
    "                pass\n",
    "        except:\n",
    "            pass\n",
    "    return distance_nom/distance_den"
   ]
  },
  {
   "cell_type": "code",
   "execution_count": 100,
   "metadata": {},
   "outputs": [
    {
     "data": {
      "text/plain": [
       "1.0"
      ]
     },
     "execution_count": 100,
     "metadata": {},
     "output_type": "execute_result"
    }
   ],
   "source": [
    "distance_users(255489, 204622)"
   ]
  },
  {
   "cell_type": "code",
   "execution_count": 122,
   "metadata": {},
   "outputs": [],
   "source": [
    "ur_matrix_slim = ur_matrix.sample(frac = 0.1)"
   ]
  },
  {
   "cell_type": "code",
   "execution_count": 124,
   "metadata": {},
   "outputs": [],
   "source": [
    "def find_n_similar(user, n):\n",
    "    distances = {}\n",
    "    for other_user in ur_matrix_slim.index: # switched from ur_matrix to ur_matrix.slim for testing because it took too long to run the function on the entire set of users\n",
    "        if other_user == user:\n",
    "            pass\n",
    "        else:\n",
    "            distances[other_user] = distance_users(user, other_user)\n",
    "    distances_df = pd.DataFrame(data = distances.values(), index = distances.keys(), columns = ['dist']).sort_values(['dist'])    \n",
    "            \n",
    "    return list(distances_df.head(n).index)"
   ]
  },
  {
   "cell_type": "code",
   "execution_count": 155,
   "metadata": {},
   "outputs": [
    {
     "data": {
      "text/plain": [
       "[211307, 208786, 262635, 26435, 46862, 215094, 131884, 203491, 89558, 4221]"
      ]
     },
     "execution_count": 155,
     "metadata": {},
     "output_type": "execute_result"
    }
   ],
   "source": [
    "find_n_similar(225433,10)"
   ]
  },
  {
   "cell_type": "markdown",
   "metadata": {},
   "source": [
    "## Finding books to recommend"
   ]
  },
  {
   "cell_type": "markdown",
   "metadata": {},
   "source": [
    "### Collaborative Filtering Method: Nearest Neighbors"
   ]
  },
  {
   "cell_type": "code",
   "execution_count": 305,
   "metadata": {},
   "outputs": [],
   "source": [
    "def find_m_recommendations(user, n, m):\n",
    "    books_read = list(ur_matrix[ur_matrix.index == user].dropna(axis = 1).columns)\n",
    "    #similar_users = find_n_similar(user, n)\n",
    "    similar_users = [211307, 208786, 262635, 26435, 46862, 215094, 131884, 203491, 89558, 4221]\n",
    "    avg_ratings = ur_matrix[ur_matrix.index.isin(similar_users)].aggregate(['mean']).drop(columns = books_read)\n",
    "    avg_ratings_sorted = avg_ratings.T.sort_values('mean', ascending = False)\n",
    "    top_m = avg_ratings_sorted.index[:m]\n",
    "    m_books = books[books.index.isin(top_m)][['Book-Title', 'Book-Author']]\n",
    "    return m_books"
   ]
  },
  {
   "cell_type": "code",
   "execution_count": 306,
   "metadata": {},
   "outputs": [
    {
     "data": {
      "text/html": [
       "<div>\n",
       "<style scoped>\n",
       "    .dataframe tbody tr th:only-of-type {\n",
       "        vertical-align: middle;\n",
       "    }\n",
       "\n",
       "    .dataframe tbody tr th {\n",
       "        vertical-align: top;\n",
       "    }\n",
       "\n",
       "    .dataframe thead th {\n",
       "        text-align: right;\n",
       "    }\n",
       "</style>\n",
       "<table border=\"1\" class=\"dataframe\">\n",
       "  <thead>\n",
       "    <tr style=\"text-align: right;\">\n",
       "      <th></th>\n",
       "      <th>Book-Title</th>\n",
       "      <th>Book-Author</th>\n",
       "    </tr>\n",
       "    <tr>\n",
       "      <th>ISBN</th>\n",
       "      <th></th>\n",
       "      <th></th>\n",
       "    </tr>\n",
       "  </thead>\n",
       "  <tbody>\n",
       "    <tr>\n",
       "      <th>0440241413</th>\n",
       "      <td>Confessions of a Shopaholic</td>\n",
       "      <td>SOPHIE KINSELLA</td>\n",
       "    </tr>\n",
       "    <tr>\n",
       "      <th>1558743669</th>\n",
       "      <td>A Child Called \\It\\\": One Child's Courage to S...</td>\n",
       "      <td>Dave Pelzer</td>\n",
       "    </tr>\n",
       "    <tr>\n",
       "      <th>0373250193</th>\n",
       "      <td>Loose Screws (Red Dress Ink (Paperback))</td>\n",
       "      <td>Karen Templeton</td>\n",
       "    </tr>\n",
       "    <tr>\n",
       "      <th>8495501465</th>\n",
       "      <td>Dios vuelve ne una Harley</td>\n",
       "      <td>Joan Brady</td>\n",
       "    </tr>\n",
       "    <tr>\n",
       "      <th>0451146077</th>\n",
       "      <td>The Early Ayn Rand: A Selection from Her Unpub...</td>\n",
       "      <td>Ayn Rand</td>\n",
       "    </tr>\n",
       "    <tr>\n",
       "      <th>0451158601</th>\n",
       "      <td>We the Living</td>\n",
       "      <td>Ayn Rand</td>\n",
       "    </tr>\n",
       "    <tr>\n",
       "      <th>0452273331</th>\n",
       "      <td>The Fountainhead</td>\n",
       "      <td>Ayn Rand</td>\n",
       "    </tr>\n",
       "    <tr>\n",
       "      <th>0425090825</th>\n",
       "      <td>Callahans Secret</td>\n",
       "      <td>Spider Robinson</td>\n",
       "    </tr>\n",
       "  </tbody>\n",
       "</table>\n",
       "</div>"
      ],
      "text/plain": [
       "                                                   Book-Title      Book-Author\n",
       "ISBN                                                                          \n",
       "0440241413                        Confessions of a Shopaholic  SOPHIE KINSELLA\n",
       "1558743669  A Child Called \\It\\\": One Child's Courage to S...      Dave Pelzer\n",
       "0373250193           Loose Screws (Red Dress Ink (Paperback))  Karen Templeton\n",
       "8495501465                          Dios vuelve ne una Harley       Joan Brady\n",
       "0451146077  The Early Ayn Rand: A Selection from Her Unpub...         Ayn Rand\n",
       "0451158601                                      We the Living         Ayn Rand\n",
       "0452273331                                   The Fountainhead         Ayn Rand\n",
       "0425090825                                   Callahans Secret  Spider Robinson"
      ]
     },
     "execution_count": 306,
     "metadata": {},
     "output_type": "execute_result"
    }
   ],
   "source": [
    "find_m_recommendations(225433, 3, 10)"
   ]
  },
  {
   "cell_type": "markdown",
   "metadata": {},
   "source": [
    "### Collaborative Filtering Method: Latent Factors"
   ]
  },
  {
   "cell_type": "code",
   "execution_count": 173,
   "metadata": {},
   "outputs": [],
   "source": [
    "from scipy.sparse import coo_matrix\n",
    "from numpy.linalg import norm"
   ]
  },
  {
   "cell_type": "code",
   "execution_count": 159,
   "metadata": {},
   "outputs": [
    {
     "data": {
      "text/html": [
       "<div>\n",
       "<style scoped>\n",
       "    .dataframe tbody tr th:only-of-type {\n",
       "        vertical-align: middle;\n",
       "    }\n",
       "\n",
       "    .dataframe tbody tr th {\n",
       "        vertical-align: top;\n",
       "    }\n",
       "\n",
       "    .dataframe thead th {\n",
       "        text-align: right;\n",
       "    }\n",
       "</style>\n",
       "<table border=\"1\" class=\"dataframe\">\n",
       "  <thead>\n",
       "    <tr style=\"text-align: right;\">\n",
       "      <th></th>\n",
       "      <th>User-ID</th>\n",
       "      <th>ISBN</th>\n",
       "      <th>Book-Rating</th>\n",
       "    </tr>\n",
       "  </thead>\n",
       "  <tbody>\n",
       "    <tr>\n",
       "      <th>0</th>\n",
       "      <td>276725</td>\n",
       "      <td>034545104X</td>\n",
       "      <td>0</td>\n",
       "    </tr>\n",
       "    <tr>\n",
       "      <th>1</th>\n",
       "      <td>276726</td>\n",
       "      <td>0155061224</td>\n",
       "      <td>5</td>\n",
       "    </tr>\n",
       "    <tr>\n",
       "      <th>2</th>\n",
       "      <td>276727</td>\n",
       "      <td>0446520802</td>\n",
       "      <td>0</td>\n",
       "    </tr>\n",
       "    <tr>\n",
       "      <th>3</th>\n",
       "      <td>276729</td>\n",
       "      <td>052165615X</td>\n",
       "      <td>3</td>\n",
       "    </tr>\n",
       "    <tr>\n",
       "      <th>4</th>\n",
       "      <td>276729</td>\n",
       "      <td>0521795028</td>\n",
       "      <td>6</td>\n",
       "    </tr>\n",
       "  </tbody>\n",
       "</table>\n",
       "</div>"
      ],
      "text/plain": [
       "  User-ID        ISBN  Book-Rating\n",
       "0  276725  034545104X            0\n",
       "1  276726  0155061224            5\n",
       "2  276727  0446520802            0\n",
       "3  276729  052165615X            3\n",
       "4  276729  0521795028            6"
      ]
     },
     "execution_count": 159,
     "metadata": {},
     "output_type": "execute_result"
    }
   ],
   "source": [
    "ratings.head()"
   ]
  },
  {
   "cell_type": "code",
   "execution_count": 160,
   "metadata": {},
   "outputs": [],
   "source": [
    "ratings['User-ID'] = ratings['User-ID'].astype('category')\n",
    "ratings['ISBN'] = ratings['ISBN'].astype('category')"
   ]
  },
  {
   "cell_type": "code",
   "execution_count": 166,
   "metadata": {},
   "outputs": [],
   "source": [
    "ratings_mtrx = coo_matrix((ratings['Book-Rating'].astype(float), (ratings['User-ID'].cat.codes.copy(), ratings['ISBN'].cat.codes.copy())))"
   ]
  },
  {
   "cell_type": "code",
   "execution_count": 180,
   "metadata": {},
   "outputs": [
    {
     "data": {
      "text/plain": [
       "scipy.sparse.coo.coo_matrix"
      ]
     },
     "execution_count": 180,
     "metadata": {},
     "output_type": "execute_result"
    }
   ],
   "source": [
    "type(ratings_mtrx)"
   ]
  },
  {
   "cell_type": "code",
   "execution_count": 206,
   "metadata": {},
   "outputs": [
    {
     "name": "stdout",
     "output_type": "stream",
     "text": [
      "The sparse matrix has 105283 rows and 340556 columns, compared to the full matrix which would have had 105283 rows and 340556 columns.\n"
     ]
    }
   ],
   "source": [
    "print(f\"The sparse matrix has {ratings_mtrx.shape[0]} rows and {ratings_mtrx.shape[1]} columns, compared to the full matrix which would have had {ratings['User-ID'].nunique()} rows and {ratings['ISBN'].nunique()} columns.\")"
   ]
  },
  {
   "cell_type": "code",
   "execution_count": 171,
   "metadata": {},
   "outputs": [],
   "source": [
    "num_usrs = ratings_mtrx.shape[0]\n",
    "num_bks = ratings_mtrx.shape[1]\n",
    "num_ftrs = 3"
   ]
  },
  {
   "cell_type": "code",
   "execution_count": 174,
   "metadata": {},
   "outputs": [],
   "source": [
    "usrs_fctr_mtrx = np.random.rand(num_usrs, num_ftrs)\n",
    "fctr_bks_mtrx = np.random.rand(num_ftrs, num_bks)"
   ]
  },
  {
   "cell_type": "code",
   "execution_count": 183,
   "metadata": {},
   "outputs": [],
   "source": [
    "def est_error(ratings_matrix, users_factor_matrix, factor_books_mtrx, l = 0.05):\n",
    "    ratings = ratings_matrix.data\n",
    "    rrows = ratings_matrix.row\n",
    "    rcols = ratings_matrix.col\n",
    "    err = 0\n",
    "    for uir in range(len(ratings)):\n",
    "        rtg_ui = ratings[uir]\n",
    "        usr = rrows[uir]\n",
    "        bk = rcols[uir]\n",
    "        if rtg_ui>0:\n",
    "            err = err + (rtg_ui - np.dot(users_factor_matrix[usr,:], factor_books_mtrx[:,bk]))**2 + l * (norm(users_factor_matrix[usr,:])**2 + norm(factor_books_mtrx[:,bk])**2)\n",
    "    \n",
    "    return err"
   ]
  },
  {
   "cell_type": "code",
   "execution_count": 186,
   "metadata": {},
   "outputs": [],
   "source": [
    "rmse = np.sqrt(est_error(ratings_mtrx, usrs_fctr_mtrx, fctr_bks_mtrx)/len(ratings_mtrx.data))"
   ]
  },
  {
   "cell_type": "code",
   "execution_count": 187,
   "metadata": {},
   "outputs": [
    {
     "data": {
      "text/plain": [
       "4.365920608994496"
      ]
     },
     "execution_count": 187,
     "metadata": {},
     "output_type": "execute_result"
    }
   ],
   "source": [
    "rmse"
   ]
  },
  {
   "cell_type": "code",
   "execution_count": 194,
   "metadata": {},
   "outputs": [],
   "source": [
    "def min_error(ratings_mtrx, num_ftrs, tgt_err, l = 0.05, g = 0.001, steps = 2):\n",
    "    num_usrs, num_bks = ratings_mtrx.shape\n",
    "    ratings = ratings_mtrx.data\n",
    "    rrows = ratings_mtrx.row\n",
    "    rcols = ratings_mtrx.col\n",
    "    usrs_fctr_mtrx = np.random.rand(num_usrs, num_ftrs)\n",
    "    fctr_bks_mtrx = np.random.rand(num_ftrs, num_bks)\n",
    "    rmse = np.sqrt(est_error(ratings_mtrx, usrs_fctr_mtrx, fctr_bks_mtrx)/len(ratings_mtrx.data))\n",
    "    print(f\"Initial RMSE = {round(rmse, 4)}\")\n",
    "    for step in range(steps):\n",
    "        for uir in range(len(ratings)):\n",
    "            rtg_ui = ratings[uir]\n",
    "            usr = rrows[uir]\n",
    "            bk = rcols[uir]\n",
    "            if rtg_ui>0:\n",
    "                err_ui = rtg_ui - np.dot(usrs_fctr_mtrx[usr,:], fctr_bks_mtrx[:,bk])\n",
    "                usrs_fctr_mtrx[usr,:] = usrs_fctr_mtrx[usr,:]+ 2*g*(err_ui*fctr_bks_mtrx[:,bk] - l*usrs_fctr_mtrx[usr,:])\n",
    "                fctr_bks_mtrx[:,bk] = fctr_bks_mtrx[:,bk] + 2*g*(err_ui*usrs_fctr_mtrx[usr,:] - l*fctr_bks_mtrx[:,bk])\n",
    "        rmse = np.sqrt(est_error(ratings_mtrx, usrs_fctr_mtrx, fctr_bks_mtrx)/len(ratings_mtrx.data))\n",
    "        if rmse <= tgt_err:\n",
    "            break\n",
    "    print(f\"Final RMSE = {round(rmse,4)}\")\n",
    "    return usrs_fctr_mtrx, fctr_bks_mtrx"
   ]
  },
  {
   "cell_type": "code",
   "execution_count": 198,
   "metadata": {},
   "outputs": [
    {
     "name": "stdout",
     "output_type": "stream",
     "text": [
      "Initial RMSE = 4.367\n",
      "Final RMSE = 0.9136\n"
     ]
    }
   ],
   "source": [
    "ufm, fbm = min_error(ratings_mtrx, 3, 0.7, steps = 100)"
   ]
  },
  {
   "cell_type": "code",
   "execution_count": 199,
   "metadata": {},
   "outputs": [
    {
     "data": {
      "text/plain": [
       "array([[1.43670295, 0.45039194, 0.5592094 ],\n",
       "       [0.42469244, 0.15163147, 0.33649315],\n",
       "       [0.81869506, 0.51661862, 0.23369282],\n",
       "       ...,\n",
       "       [1.53112819, 2.32346092, 2.07688938],\n",
       "       [1.82917229, 1.78169822, 2.55172133],\n",
       "       [0.99768944, 0.59352088, 0.83545333]])"
      ]
     },
     "execution_count": 199,
     "metadata": {},
     "output_type": "execute_result"
    }
   ],
   "source": [
    "ufm"
   ]
  },
  {
   "cell_type": "code",
   "execution_count": 200,
   "metadata": {},
   "outputs": [
    {
     "data": {
      "text/plain": [
       "array([[0.49312816, 0.1813821 , 0.98486762, ..., 0.11146441, 1.87779885,\n",
       "        1.13909225],\n",
       "       [1.14099152, 0.38985203, 0.76432055, ..., 0.3963618 , 0.76809651,\n",
       "        1.13167044],\n",
       "       [1.4709615 , 0.55657442, 0.72933628, ..., 0.31188919, 0.93482453,\n",
       "        0.91595938]])"
      ]
     },
     "execution_count": 200,
     "metadata": {},
     "output_type": "execute_result"
    }
   ],
   "source": [
    "fbm"
   ]
  },
  {
   "cell_type": "code",
   "execution_count": 201,
   "metadata": {},
   "outputs": [
    {
     "data": {
      "text/plain": [
       "(105283, 3)"
      ]
     },
     "execution_count": 201,
     "metadata": {},
     "output_type": "execute_result"
    }
   ],
   "source": [
    "ufm.shape"
   ]
  },
  {
   "cell_type": "code",
   "execution_count": 203,
   "metadata": {},
   "outputs": [
    {
     "data": {
      "text/plain": [
       "(3, 340556)"
      ]
     },
     "execution_count": 203,
     "metadata": {},
     "output_type": "execute_result"
    }
   ],
   "source": [
    "fbm.shape"
   ]
  },
  {
   "cell_type": "code",
   "execution_count": 202,
   "metadata": {},
   "outputs": [
    {
     "data": {
      "text/plain": [
       "(105283, 340556)"
      ]
     },
     "execution_count": 202,
     "metadata": {},
     "output_type": "execute_result"
    }
   ],
   "source": [
    "ratings_mtrx.shape"
   ]
  },
  {
   "cell_type": "code",
   "execution_count": 303,
   "metadata": {},
   "outputs": [],
   "source": [
    "def find_n_recommendations(user_id, n):\n",
    "    row = list(ratings['User-ID'].unique()).index(user_id) # determining which row in the user-factor matrix corresponds to user_id\n",
    "    read = list(ratings[(ratings['User-ID'] == user_id) & (ratings['Book-Rating']>0)]['ISBN']) # determining which books the user has read, so as to not recommend them again\n",
    "    bk_rtngs = np.dot(ufm[row], fbm) # calculating user ratings for all books in the library\n",
    "    bks = pd.DataFrame(index = ratings['ISBN'].unique(), columns = ['rating'], data = bk_rtngs.transpose()).sort_values(['rating'], ascending = False) # sorting books by rating\n",
    "    unrd_bks = bks[~bks.index.isin(read)]\n",
    "    unrd_bks = unrd_bks.merge(books[['Book-Title', 'Book-Author']], left_index = True, right_index = True).drop(['rating'], axis = 1) # pulling in the titles and authors to display\n",
    "    return unrd_bks.head(n)"
   ]
  },
  {
   "cell_type": "code",
   "execution_count": 304,
   "metadata": {},
   "outputs": [
    {
     "data": {
      "text/html": [
       "<div>\n",
       "<style scoped>\n",
       "    .dataframe tbody tr th:only-of-type {\n",
       "        vertical-align: middle;\n",
       "    }\n",
       "\n",
       "    .dataframe tbody tr th {\n",
       "        vertical-align: top;\n",
       "    }\n",
       "\n",
       "    .dataframe thead th {\n",
       "        text-align: right;\n",
       "    }\n",
       "</style>\n",
       "<table border=\"1\" class=\"dataframe\">\n",
       "  <thead>\n",
       "    <tr style=\"text-align: right;\">\n",
       "      <th></th>\n",
       "      <th>Book-Title</th>\n",
       "      <th>Book-Author</th>\n",
       "    </tr>\n",
       "  </thead>\n",
       "  <tbody>\n",
       "    <tr>\n",
       "      <th>070641537X</th>\n",
       "      <td>Dictionary of Quotations and Proverbs Everyman E</td>\n",
       "      <td>D C Browning</td>\n",
       "    </tr>\n",
       "    <tr>\n",
       "      <th>0515063924</th>\n",
       "      <td>A Heart Is Broken</td>\n",
       "      <td>Barbara Cartland</td>\n",
       "    </tr>\n",
       "    <tr>\n",
       "      <th>082174206X</th>\n",
       "      <td>Stolen Fire (Heartfire Romance)</td>\n",
       "      <td>Danette Chartier</td>\n",
       "    </tr>\n",
       "    <tr>\n",
       "      <th>0451204530</th>\n",
       "      <td>Code to Zero</td>\n",
       "      <td>Ken Follett</td>\n",
       "    </tr>\n",
       "    <tr>\n",
       "      <th>0843920572</th>\n",
       "      <td>Illegal Entry</td>\n",
       "      <td>Ralph Hayes</td>\n",
       "    </tr>\n",
       "    <tr>\n",
       "      <th>0440206405</th>\n",
       "      <td>What You Can Do About Diabetes (Dell Medical L...</td>\n",
       "      <td>Norra Tannenhaus</td>\n",
       "    </tr>\n",
       "    <tr>\n",
       "      <th>1576731057</th>\n",
       "      <td>Arabian Winds</td>\n",
       "      <td>Linda Chaikin</td>\n",
       "    </tr>\n",
       "    <tr>\n",
       "      <th>006091095X</th>\n",
       "      <td>Stitches, patterns, and projects for crochetin...</td>\n",
       "      <td>Wanda Bonando</td>\n",
       "    </tr>\n",
       "    <tr>\n",
       "      <th>2253056014</th>\n",
       "      <td>Dedale</td>\n",
       "      <td>Collins</td>\n",
       "    </tr>\n",
       "    <tr>\n",
       "      <th>0743223438</th>\n",
       "      <td>The Thurber Letters: The Wit, Wisdom and Surpr...</td>\n",
       "      <td>James Thurber</td>\n",
       "    </tr>\n",
       "  </tbody>\n",
       "</table>\n",
       "</div>"
      ],
      "text/plain": [
       "                                                   Book-Title  \\\n",
       "070641537X   Dictionary of Quotations and Proverbs Everyman E   \n",
       "0515063924                                  A Heart Is Broken   \n",
       "082174206X                    Stolen Fire (Heartfire Romance)   \n",
       "0451204530                                       Code to Zero   \n",
       "0843920572                                      Illegal Entry   \n",
       "0440206405  What You Can Do About Diabetes (Dell Medical L...   \n",
       "1576731057                                      Arabian Winds   \n",
       "006091095X  Stitches, patterns, and projects for crochetin...   \n",
       "2253056014                                             Dedale   \n",
       "0743223438  The Thurber Letters: The Wit, Wisdom and Surpr...   \n",
       "\n",
       "                 Book-Author  \n",
       "070641537X      D C Browning  \n",
       "0515063924  Barbara Cartland  \n",
       "082174206X  Danette Chartier  \n",
       "0451204530       Ken Follett  \n",
       "0843920572       Ralph Hayes  \n",
       "0440206405  Norra Tannenhaus  \n",
       "1576731057     Linda Chaikin  \n",
       "006091095X     Wanda Bonando  \n",
       "2253056014           Collins  \n",
       "0743223438     James Thurber  "
      ]
     },
     "execution_count": 304,
     "metadata": {},
     "output_type": "execute_result"
    }
   ],
   "source": [
    "recs = find_n_recommendations('225433',10)\n",
    "recs"
   ]
  },
  {
   "cell_type": "markdown",
   "metadata": {},
   "source": [
    "### Using Apriori Association Rules"
   ]
  },
  {
   "cell_type": "code",
   "execution_count": null,
   "metadata": {},
   "outputs": [],
   "source": []
  },
  {
   "cell_type": "code",
   "execution_count": null,
   "metadata": {},
   "outputs": [],
   "source": []
  },
  {
   "cell_type": "code",
   "execution_count": null,
   "metadata": {},
   "outputs": [],
   "source": []
  },
  {
   "cell_type": "markdown",
   "metadata": {},
   "source": [
    "***"
   ]
  },
  {
   "cell_type": "code",
   "execution_count": 138,
   "metadata": {},
   "outputs": [],
   "source": [
    "rated = ur_matrix[ur_matrix.index.isin([211307, 208786, 262635])].aggregate(['mean']).drop(columns = ['0349113602', '057120175X'])"
   ]
  },
  {
   "cell_type": "code",
   "execution_count": 142,
   "metadata": {},
   "outputs": [
    {
     "data": {
      "text/plain": [
       "Index(['0425090825', '0064400557', '014034991X', '0345377702', '0440428130'], dtype='object')"
      ]
     },
     "execution_count": 142,
     "metadata": {},
     "output_type": "execute_result"
    }
   ],
   "source": [
    "rated.T.sort_values('mean', ascending= False).index[:5]"
   ]
  },
  {
   "cell_type": "code",
   "execution_count": null,
   "metadata": {},
   "outputs": [],
   "source": []
  },
  {
   "cell_type": "code",
   "execution_count": 131,
   "metadata": {},
   "outputs": [
    {
     "data": {
      "text/html": [
       "<div>\n",
       "<style scoped>\n",
       "    .dataframe tbody tr th:only-of-type {\n",
       "        vertical-align: middle;\n",
       "    }\n",
       "\n",
       "    .dataframe tbody tr th {\n",
       "        vertical-align: top;\n",
       "    }\n",
       "\n",
       "    .dataframe thead th {\n",
       "        text-align: right;\n",
       "    }\n",
       "</style>\n",
       "<table border=\"1\" class=\"dataframe\">\n",
       "  <thead>\n",
       "    <tr style=\"text-align: right;\">\n",
       "      <th>ISBN</th>\n",
       "      <th>0 907 062 008</th>\n",
       "      <th>00000000</th>\n",
       "      <th>000000000</th>\n",
       "      <th>0000000000</th>\n",
       "      <th>00000000000</th>\n",
       "      <th>000000000000</th>\n",
       "      <th>0000000000000</th>\n",
       "      <th>0001055666</th>\n",
       "      <th>000200092</th>\n",
       "      <th>0002005018</th>\n",
       "      <th>...</th>\n",
       "      <th>9895550065</th>\n",
       "      <th>9895550138</th>\n",
       "      <th>9895550738</th>\n",
       "      <th>B00005W8DZ</th>\n",
       "      <th>B00009EF82</th>\n",
       "      <th>B0000AA9IZ</th>\n",
       "      <th>B0000E63CJ</th>\n",
       "      <th>B158991965</th>\n",
       "      <th>M79702002</th>\n",
       "      <th>O67174142X</th>\n",
       "    </tr>\n",
       "    <tr>\n",
       "      <th>User-ID</th>\n",
       "      <th></th>\n",
       "      <th></th>\n",
       "      <th></th>\n",
       "      <th></th>\n",
       "      <th></th>\n",
       "      <th></th>\n",
       "      <th></th>\n",
       "      <th></th>\n",
       "      <th></th>\n",
       "      <th></th>\n",
       "      <th></th>\n",
       "      <th></th>\n",
       "      <th></th>\n",
       "      <th></th>\n",
       "      <th></th>\n",
       "      <th></th>\n",
       "      <th></th>\n",
       "      <th></th>\n",
       "      <th></th>\n",
       "      <th></th>\n",
       "      <th></th>\n",
       "    </tr>\n",
       "  </thead>\n",
       "  <tbody>\n",
       "    <tr>\n",
       "      <th>8</th>\n",
       "      <td>NaN</td>\n",
       "      <td>NaN</td>\n",
       "      <td>NaN</td>\n",
       "      <td>NaN</td>\n",
       "      <td>NaN</td>\n",
       "      <td>NaN</td>\n",
       "      <td>NaN</td>\n",
       "      <td>NaN</td>\n",
       "      <td>NaN</td>\n",
       "      <td>5.0</td>\n",
       "      <td>...</td>\n",
       "      <td>NaN</td>\n",
       "      <td>NaN</td>\n",
       "      <td>NaN</td>\n",
       "      <td>NaN</td>\n",
       "      <td>NaN</td>\n",
       "      <td>NaN</td>\n",
       "      <td>NaN</td>\n",
       "      <td>NaN</td>\n",
       "      <td>NaN</td>\n",
       "      <td>NaN</td>\n",
       "    </tr>\n",
       "    <tr>\n",
       "      <th>17</th>\n",
       "      <td>NaN</td>\n",
       "      <td>NaN</td>\n",
       "      <td>NaN</td>\n",
       "      <td>NaN</td>\n",
       "      <td>NaN</td>\n",
       "      <td>NaN</td>\n",
       "      <td>NaN</td>\n",
       "      <td>NaN</td>\n",
       "      <td>NaN</td>\n",
       "      <td>NaN</td>\n",
       "      <td>...</td>\n",
       "      <td>NaN</td>\n",
       "      <td>NaN</td>\n",
       "      <td>NaN</td>\n",
       "      <td>NaN</td>\n",
       "      <td>NaN</td>\n",
       "      <td>NaN</td>\n",
       "      <td>NaN</td>\n",
       "      <td>NaN</td>\n",
       "      <td>NaN</td>\n",
       "      <td>NaN</td>\n",
       "    </tr>\n",
       "    <tr>\n",
       "      <th>53</th>\n",
       "      <td>NaN</td>\n",
       "      <td>NaN</td>\n",
       "      <td>NaN</td>\n",
       "      <td>NaN</td>\n",
       "      <td>NaN</td>\n",
       "      <td>NaN</td>\n",
       "      <td>NaN</td>\n",
       "      <td>NaN</td>\n",
       "      <td>NaN</td>\n",
       "      <td>NaN</td>\n",
       "      <td>...</td>\n",
       "      <td>NaN</td>\n",
       "      <td>NaN</td>\n",
       "      <td>NaN</td>\n",
       "      <td>NaN</td>\n",
       "      <td>NaN</td>\n",
       "      <td>NaN</td>\n",
       "      <td>NaN</td>\n",
       "      <td>NaN</td>\n",
       "      <td>NaN</td>\n",
       "      <td>NaN</td>\n",
       "    </tr>\n",
       "    <tr>\n",
       "      <th>69</th>\n",
       "      <td>NaN</td>\n",
       "      <td>NaN</td>\n",
       "      <td>NaN</td>\n",
       "      <td>NaN</td>\n",
       "      <td>NaN</td>\n",
       "      <td>NaN</td>\n",
       "      <td>NaN</td>\n",
       "      <td>NaN</td>\n",
       "      <td>NaN</td>\n",
       "      <td>NaN</td>\n",
       "      <td>...</td>\n",
       "      <td>NaN</td>\n",
       "      <td>NaN</td>\n",
       "      <td>NaN</td>\n",
       "      <td>NaN</td>\n",
       "      <td>NaN</td>\n",
       "      <td>NaN</td>\n",
       "      <td>NaN</td>\n",
       "      <td>NaN</td>\n",
       "      <td>NaN</td>\n",
       "      <td>NaN</td>\n",
       "    </tr>\n",
       "    <tr>\n",
       "      <th>99</th>\n",
       "      <td>NaN</td>\n",
       "      <td>NaN</td>\n",
       "      <td>NaN</td>\n",
       "      <td>NaN</td>\n",
       "      <td>NaN</td>\n",
       "      <td>NaN</td>\n",
       "      <td>NaN</td>\n",
       "      <td>NaN</td>\n",
       "      <td>NaN</td>\n",
       "      <td>NaN</td>\n",
       "      <td>...</td>\n",
       "      <td>NaN</td>\n",
       "      <td>NaN</td>\n",
       "      <td>NaN</td>\n",
       "      <td>NaN</td>\n",
       "      <td>NaN</td>\n",
       "      <td>NaN</td>\n",
       "      <td>NaN</td>\n",
       "      <td>NaN</td>\n",
       "      <td>NaN</td>\n",
       "      <td>NaN</td>\n",
       "    </tr>\n",
       "  </tbody>\n",
       "</table>\n",
       "<p>5 rows × 49619 columns</p>\n",
       "</div>"
      ],
      "text/plain": [
       "ISBN     0 907 062 008  00000000  000000000  0000000000  00000000000  \\\n",
       "User-ID                                                                \n",
       "8                  NaN       NaN        NaN         NaN          NaN   \n",
       "17                 NaN       NaN        NaN         NaN          NaN   \n",
       "53                 NaN       NaN        NaN         NaN          NaN   \n",
       "69                 NaN       NaN        NaN         NaN          NaN   \n",
       "99                 NaN       NaN        NaN         NaN          NaN   \n",
       "\n",
       "ISBN     000000000000  0000000000000  0001055666  000200092  0002005018  ...  \\\n",
       "User-ID                                                                  ...   \n",
       "8                 NaN            NaN         NaN        NaN         5.0  ...   \n",
       "17                NaN            NaN         NaN        NaN         NaN  ...   \n",
       "53                NaN            NaN         NaN        NaN         NaN  ...   \n",
       "69                NaN            NaN         NaN        NaN         NaN  ...   \n",
       "99                NaN            NaN         NaN        NaN         NaN  ...   \n",
       "\n",
       "ISBN     9895550065  9895550138  9895550738  B00005W8DZ  B00009EF82  \\\n",
       "User-ID                                                               \n",
       "8               NaN         NaN         NaN         NaN         NaN   \n",
       "17              NaN         NaN         NaN         NaN         NaN   \n",
       "53              NaN         NaN         NaN         NaN         NaN   \n",
       "69              NaN         NaN         NaN         NaN         NaN   \n",
       "99              NaN         NaN         NaN         NaN         NaN   \n",
       "\n",
       "ISBN     B0000AA9IZ  B0000E63CJ  B158991965  M79702002  O67174142X  \n",
       "User-ID                                                             \n",
       "8               NaN         NaN         NaN        NaN         NaN  \n",
       "17              NaN         NaN         NaN        NaN         NaN  \n",
       "53              NaN         NaN         NaN        NaN         NaN  \n",
       "69              NaN         NaN         NaN        NaN         NaN  \n",
       "99              NaN         NaN         NaN        NaN         NaN  \n",
       "\n",
       "[5 rows x 49619 columns]"
      ]
     },
     "execution_count": 131,
     "metadata": {},
     "output_type": "execute_result"
    }
   ],
   "source": [
    "ur_matrix."
   ]
  },
  {
   "cell_type": "code",
   "execution_count": null,
   "metadata": {},
   "outputs": [],
   "source": []
  }
 ],
 "metadata": {
  "kernelspec": {
   "display_name": "Python 3",
   "language": "python",
   "name": "python3"
  },
  "language_info": {
   "codemirror_mode": {
    "name": "ipython",
    "version": 3
   },
   "file_extension": ".py",
   "mimetype": "text/x-python",
   "name": "python",
   "nbconvert_exporter": "python",
   "pygments_lexer": "ipython3",
   "version": "3.8.3"
  }
 },
 "nbformat": 4,
 "nbformat_minor": 4
}
